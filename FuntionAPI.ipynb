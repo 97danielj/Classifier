{
 "cells": [
  {
   "cell_type": "markdown",
   "id": "2634e256",
   "metadata": {},
   "source": [
    "# FFNN(딥러닝) / MLP이다.\n",
    "그냥 입력층에서 출력층으로 연산이 진행된다."
   ]
  },
  {
   "cell_type": "code",
   "execution_count": 11,
   "id": "a36ea9dd",
   "metadata": {},
   "outputs": [],
   "source": [
    "from tensorflow.keras.layers import Input, Dense\n",
    "from tensorflow.keras.models import Model\n",
    "\n",
    "\n",
    "inputs = Input(shape=(10,)) #입력층 정의\n",
    "x = Dense(8, activation=\"relu\")(inputs) #은닉층\n",
    "x = Dense(4, activation=\"relu\")(x) #은닉층\n",
    "x = Dense(1, activation=\"sigmoid\")(x)\n",
    "model = Model(inputs, x)\n",
    "model.compile(optimizer='rmsprop', loss='categorical_crossentropy', metrics=['accuracy'])"
   ]
  },
  {
   "cell_type": "markdown",
   "id": "576d567f",
   "metadata": {},
   "source": [
    "# 선형회기(Function API)\n",
    "입력층 - 출력층으로만 구성"
   ]
  },
  {
   "cell_type": "code",
   "execution_count": null,
   "id": "6f085074",
   "metadata": {},
   "outputs": [],
   "source": [
    "from tensorflow.keras.layers import Input, Dense\n",
    "from tensorflow.keras.models import Model\n",
    "from tensorflow.keras import optimizers\n",
    "\n",
    "#입력이 3개인 입력층\n",
    "inputs = Input(shape=(3,))\n",
    "output = Dense(1, activation='sigmoid')(inputs)\n",
    "linear_model = model(inputs, output)\n",
    "\n",
    "sgd = optimizers.SGD(lr=0.01)\n",
    "linear_model.compile(optimizers=sgd, loss='mse', metrics=['mse'])"
   ]
  },
  {
   "cell_type": "markdown",
   "id": "438c380d",
   "metadata": {},
   "source": [
    "# FFNN"
   ]
  },
  {
   "cell_type": "code",
   "execution_count": null,
   "id": "d6bf330b",
   "metadata": {},
   "outputs": [],
   "source": [
    "#예시\n",
    "model = model(inputs = [a1,a2], outputs=[b1,b2,b3])\n",
    "#리스트 원소는 입력, 출력테서로 정의"
   ]
  },
  {
   "cell_type": "code",
   "execution_count": null,
   "id": "a136a737",
   "metadata": {},
   "outputs": [],
   "source": [
    "# 두 개의 입력층을 정의\n",
    "inputs = Input(shape=(10,))"
   ]
  }
 ],
 "metadata": {
  "kernelspec": {
   "display_name": "Python 3 (ipykernel)",
   "language": "python",
   "name": "python3"
  },
  "language_info": {
   "codemirror_mode": {
    "name": "ipython",
    "version": 3
   },
   "file_extension": ".py",
   "mimetype": "text/x-python",
   "name": "python",
   "nbconvert_exporter": "python",
   "pygments_lexer": "ipython3",
   "version": "3.9.7"
  }
 },
 "nbformat": 4,
 "nbformat_minor": 5
}
