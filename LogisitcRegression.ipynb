{
 "cells": [
  {
   "cell_type": "code",
   "execution_count": 1,
   "id": "97d932f9",
   "metadata": {},
   "outputs": [],
   "source": [
    "from sklearn.linear_model import LogisticRegression\n",
    "import numpy as np\n",
    "# model = LogisticRegression()\n",
    "# model.fit(가울기, 절편)"
   ]
  },
  {
   "cell_type": "markdown",
   "id": "0d458bc9",
   "metadata": {},
   "source": [
    "# 1. 데이터 불러오기"
   ]
  },
  {
   "cell_type": "code",
   "execution_count": 2,
   "id": "156546d8",
   "metadata": {},
   "outputs": [
    {
     "name": "stdout",
     "output_type": "stream",
     "text": [
      "(891, 12)\n",
      "   PassengerId  Survived  Pclass  \\\n",
      "0            1         0       3   \n",
      "1            2         1       1   \n",
      "2            3         1       3   \n",
      "3            4         1       1   \n",
      "4            5         0       3   \n",
      "\n",
      "                                                Name     Sex   Age  SibSp  \\\n",
      "0                            Braund, Mr. Owen Harris    male  22.0      1   \n",
      "1  Cumings, Mrs. John Bradley (Florence Briggs Th...  female  38.0      1   \n",
      "2                             Heikkinen, Miss. Laina  female  26.0      0   \n",
      "3       Futrelle, Mrs. Jacques Heath (Lily May Peel)  female  35.0      1   \n",
      "4                           Allen, Mr. William Henry    male  35.0      0   \n",
      "\n",
      "   Parch            Ticket     Fare Cabin Embarked  \n",
      "0      0         A/5 21171   7.2500   NaN        S  \n",
      "1      0          PC 17599  71.2833   C85        C  \n",
      "2      0  STON/O2. 3101282   7.9250   NaN        S  \n",
      "3      0            113803  53.1000  C123        S  \n",
      "4      0            373450   8.0500   NaN        S  \n",
      "Index(['PassengerId', 'Survived', 'Pclass', 'Name', 'Sex', 'Age', 'SibSp',\n",
      "       'Parch', 'Ticket', 'Fare', 'Cabin', 'Embarked'],\n",
      "      dtype='object')\n"
     ]
    }
   ],
   "source": [
    "import pandas as pd\n",
    "passengers = pd.read_csv('titanic_train.csv')\n",
    "print(passengers.shape)\n",
    "print(passengers.head())\n",
    "print(passengers.columns)"
   ]
  },
  {
   "cell_type": "code",
   "execution_count": 3,
   "id": "8616b33f",
   "metadata": {},
   "outputs": [
    {
     "data": {
      "text/plain": [
       "(891, 12)"
      ]
     },
     "execution_count": 3,
     "metadata": {},
     "output_type": "execute_result"
    }
   ],
   "source": [
    "passengers.shape\n",
    "#클래스 레이블 1이 살아남은거다."
   ]
  },
  {
   "cell_type": "markdown",
   "id": "78e71238",
   "metadata": {},
   "source": [
    "# 2. 데이터 전처리"
   ]
  },
  {
   "cell_type": "markdown",
   "id": "2afb0d8d",
   "metadata": {},
   "source": [
    "## 1. 문자열(비정형)-> 숫자로 변환(정형)"
   ]
  },
  {
   "cell_type": "code",
   "execution_count": 4,
   "id": "538bb193",
   "metadata": {
    "scrolled": true
   },
   "outputs": [],
   "source": [
    "passengers['Sex'] = passengers['Sex'].map({'female':1,'male':0})"
   ]
  },
  {
   "cell_type": "code",
   "execution_count": 5,
   "id": "585b657c",
   "metadata": {},
   "outputs": [],
   "source": [
    "passengers['Age'].fillna(value=passengers['Age'].mean(), inplace=True)"
   ]
  },
  {
   "cell_type": "markdown",
   "id": "9f5b7482",
   "metadata": {},
   "source": [
    "## 3. feature 분리하기\n",
    "## sex,age,Pclass를 추출. 가설 : 여성>어린이>1/2/3등석 순으로 살아남았을 거다."
   ]
  },
  {
   "cell_type": "code",
   "execution_count": 6,
   "id": "788b3900",
   "metadata": {},
   "outputs": [],
   "source": [
    "passengers['FirstClass'] = passengers['Pclass'].apply(lambda x: 1 if x == 1 else 0)\n",
    "passengers['SecondClass'] = passengers['Pclass'].apply(lambda x: 1 if x == 2 else 0)"
   ]
  },
  {
   "cell_type": "code",
   "execution_count": 7,
   "id": "870acd13",
   "metadata": {},
   "outputs": [],
   "source": [
    "features = passengers[['Sex', 'Age', 'FirstClass', 'SecondClass']]\n",
    "survival = passengers['Survived']"
   ]
  },
  {
   "cell_type": "code",
   "execution_count": 8,
   "id": "e1e13bf5",
   "metadata": {},
   "outputs": [
    {
     "data": {
      "text/plain": [
       "pandas.core.series.Series"
      ]
     },
     "execution_count": 8,
     "metadata": {},
     "output_type": "execute_result"
    }
   ],
   "source": [
    "type(features.Sex)"
   ]
  },
  {
   "cell_type": "markdown",
   "id": "f213b49f",
   "metadata": {},
   "source": [
    "# 3. 학습세트/평가세트 분리"
   ]
  },
  {
   "cell_type": "code",
   "execution_count": 9,
   "id": "084cc55f",
   "metadata": {},
   "outputs": [],
   "source": [
    "from sklearn.model_selection import train_test_split\n",
    "train_features, test_features, train_labels, test_labels = train_test_split(features, survival,test_size=0.3,random_state=1)"
   ]
  },
  {
   "cell_type": "markdown",
   "id": "511afdcc",
   "metadata": {},
   "source": [
    "# 4. 데이터 정규화(scaleling)"
   ]
  },
  {
   "cell_type": "code",
   "execution_count": 10,
   "id": "151fa176",
   "metadata": {},
   "outputs": [],
   "source": [
    "from sklearn.preprocessing import StandardScaler\n",
    "scaler = StandardScaler()\n",
    "\n",
    "train_features = scaler.fit_transform(train_features)\n",
    "test_features = scaler.transform(test_features)"
   ]
  },
  {
   "cell_type": "markdown",
   "id": "3c9722f5",
   "metadata": {},
   "source": [
    "# 5. 모델 생성 및 평가하기"
   ]
  },
  {
   "cell_type": "code",
   "execution_count": 11,
   "id": "13d49c9b",
   "metadata": {},
   "outputs": [
    {
     "data": {
      "text/plain": [
       "LogisticRegression()"
      ]
     },
     "execution_count": 11,
     "metadata": {},
     "output_type": "execute_result"
    }
   ],
   "source": [
    "from sklearn.linear_model import LogisticRegression\n",
    "\n",
    "model = LogisticRegression()\n",
    "model.fit(train_features,train_labels)"
   ]
  },
  {
   "cell_type": "code",
   "execution_count": 12,
   "id": "09f651a0",
   "metadata": {},
   "outputs": [
    {
     "data": {
      "text/plain": [
       "0.8073836276083467"
      ]
     },
     "execution_count": 12,
     "metadata": {},
     "output_type": "execute_result"
    }
   ],
   "source": [
    "model.score(train_features,train_labels)"
   ]
  },
  {
   "cell_type": "code",
   "execution_count": 13,
   "id": "ca96382a",
   "metadata": {},
   "outputs": [
    {
     "data": {
      "text/plain": [
       "0.7686567164179104"
      ]
     },
     "execution_count": 13,
     "metadata": {},
     "output_type": "execute_result"
    }
   ],
   "source": [
    "model.score(test_features,test_labels)"
   ]
  },
  {
   "cell_type": "code",
   "execution_count": 14,
   "id": "dda92542",
   "metadata": {},
   "outputs": [
    {
     "data": {
      "text/plain": [
       "array([[ 1.30129626, -0.46898282,  0.99138013,  0.55929388]])"
      ]
     },
     "execution_count": 14,
     "metadata": {},
     "output_type": "execute_result"
    }
   ],
   "source": [
    "#feature들의\n",
    "model.coef_"
   ]
  },
  {
   "cell_type": "markdown",
   "id": "b96ea013",
   "metadata": {},
   "source": [
    "# 6. 예측하기"
   ]
  },
  {
   "cell_type": "code",
   "execution_count": 17,
   "id": "deb012d4",
   "metadata": {},
   "outputs": [
    {
     "name": "stdout",
     "output_type": "stream",
     "text": [
      "[0 1 0]\n"
     ]
    }
   ],
   "source": [
    "Jack = np.array([0.0, 20.0, 0.0, 0.0])\n",
    "Rose = np.array([1.0, 17.0, 1.0, 0.0])\n",
    "ME = np.array([0.0,32.0,1.0,0.0])\n",
    "sample_passengers = np.array([Jack,Rose, ME])\n",
    "\n",
    "#훈련 데이터의 평균과 표준편차로 정규화\n",
    "sample_passengers = scaler.transform(sample_passengers)\n",
    "\n",
    "print(model.predict(sample_passengers))"
   ]
  },
  {
   "cell_type": "code",
   "execution_count": 18,
   "id": "9789afb3",
   "metadata": {},
   "outputs": [
    {
     "data": {
      "text/plain": [
       "array([[0.90194787, 0.09805213],\n",
       "       [0.04879887, 0.95120113],\n",
       "       [0.57240835, 0.42759165]])"
      ]
     },
     "execution_count": 18,
     "metadata": {},
     "output_type": "execute_result"
    }
   ],
   "source": [
    "model.predict_proba(sample_passengers)"
   ]
  },
  {
   "cell_type": "code",
   "execution_count": 19,
   "id": "4a72795f",
   "metadata": {},
   "outputs": [
    {
     "data": {
      "text/plain": [
       "array([0, 1, 0], dtype=int64)"
      ]
     },
     "execution_count": 19,
     "metadata": {},
     "output_type": "execute_result"
    }
   ],
   "source": [
    "model.predict_proba(sample_passengers).argmax(axis=1)"
   ]
  },
  {
   "cell_type": "code",
   "execution_count": null,
   "id": "c1ebb23f",
   "metadata": {},
   "outputs": [],
   "source": []
  }
 ],
 "metadata": {
  "kernelspec": {
   "display_name": "Python 3 (ipykernel)",
   "language": "python",
   "name": "python3"
  },
  "language_info": {
   "codemirror_mode": {
    "name": "ipython",
    "version": 3
   },
   "file_extension": ".py",
   "mimetype": "text/x-python",
   "name": "python",
   "nbconvert_exporter": "python",
   "pygments_lexer": "ipython3",
   "version": "3.9.7"
  }
 },
 "nbformat": 4,
 "nbformat_minor": 5
}
